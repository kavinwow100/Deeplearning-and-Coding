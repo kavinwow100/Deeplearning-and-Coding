{
 "cells": [
  {
   "cell_type": "code",
   "execution_count": 2,
   "id": "0e0e1ebc",
   "metadata": {},
   "outputs": [],
   "source": [
    "%config Completer.use_jedi = False\n",
    "%matplotlib inline\n",
    "import random\n",
    "import torch\n",
    "from torch.utils import data"
   ]
  },
  {
   "cell_type": "code",
   "execution_count": 5,
   "id": "24f1e21d",
   "metadata": {},
   "outputs": [
    {
     "name": "stdout",
     "output_type": "stream",
     "text": [
      "tensor([-0.8812,  0.4406]) tensor([0.9518])\n"
     ]
    }
   ],
   "source": [
    "## 生成数据集与手动版\n",
    "# 使用线性模型参数 w=[2,−3.4]⊤ 、 b=4.2 和噪声项 ϵ 生成数据集及其标签：y=Xw+b+ϵ.\n",
    "# 可以将  ϵ  视为捕获特征和标签时的潜在观测误差。在这里我们认为标准假设成立，即 ϵ 服从均值为0的正态分布。\n",
    "# 为了简化问题，我们将标准差设为0.01。下面的代码生成合成数据集。\n",
    "\n",
    "def synthetic_data(w, b, num_examples):  #@save\n",
    "    \"\"\"生成 y = Xw + b + 噪声。\"\"\"\n",
    "    X = torch.normal(0, 1, (num_examples, len(w))) \n",
    "    y = torch.matmul(X, w) + b # 1000 X 1\n",
    "    y += torch.normal(0, 0.01, y.shape)\n",
    "    return X, y.reshape((-1, 1))\n",
    "\n",
    "true_w = torch.tensor([2, -3.4])\n",
    "true_b = 4.2\n",
    "features, labels = synthetic_data(true_w, true_b, 1000)\n",
    "print(features[1],labels[1])"
   ]
  },
  {
   "cell_type": "code",
   "execution_count": 6,
   "id": "f2298245",
   "metadata": {},
   "outputs": [],
   "source": [
    "# 读取数据集\n",
    "def load_array(data_arrays, batch_size, is_train=True):  #@save\n",
    "    \"\"\"构造一个PyTorch数据迭代器。\"\"\"\n",
    "    dataset = data.TensorDataset(*data_arrays)\n",
    "    return data.DataLoader(dataset, batch_size, shuffle=is_train)\n",
    "\n",
    "batch_size = 10\n",
    "data_iter = load_array((features, labels), batch_size)"
   ]
  },
  {
   "cell_type": "code",
   "execution_count": 7,
   "id": "d58cb7a4",
   "metadata": {
    "scrolled": true
   },
   "outputs": [
    {
     "data": {
      "text/plain": [
       "[tensor([[-1.4016, -1.6029],\n",
       "         [-1.0687, -1.6633],\n",
       "         [ 0.6922, -0.0588],\n",
       "         [-0.9198, -1.3350],\n",
       "         [ 2.0441,  0.7863],\n",
       "         [-0.2757,  0.2868],\n",
       "         [ 0.3032,  1.5384],\n",
       "         [-0.9962, -2.2553],\n",
       "         [-0.0897,  0.0033],\n",
       "         [ 2.2038, -1.5245]]),\n",
       " tensor([[ 6.8442],\n",
       "         [ 7.7281],\n",
       "         [ 5.7971],\n",
       "         [ 6.9003],\n",
       "         [ 5.6190],\n",
       "         [ 2.6939],\n",
       "         [-0.4086],\n",
       "         [ 9.8762],\n",
       "         [ 4.0031],\n",
       "         [13.7947]])]"
      ]
     },
     "execution_count": 7,
     "metadata": {},
     "output_type": "execute_result"
    }
   ],
   "source": [
    "# 查看迭代取数是否正常\n",
    "next(iter(data_iter))"
   ]
  },
  {
   "cell_type": "code",
   "execution_count": 8,
   "id": "bcff7e85",
   "metadata": {},
   "outputs": [],
   "source": [
    "# 定义模型\n",
    "# `nn` 是神经网络的缩写\n",
    "from torch import nn\n",
    "\n",
    "net = nn.Sequential(nn.Linear(2, 1))"
   ]
  },
  {
   "cell_type": "code",
   "execution_count": 13,
   "id": "b43ed0e9",
   "metadata": {
    "scrolled": true
   },
   "outputs": [
    {
     "data": {
      "text/plain": [
       "Parameter containing:\n",
       "tensor([0.], requires_grad=True)"
      ]
     },
     "execution_count": 13,
     "metadata": {},
     "output_type": "execute_result"
    }
   ],
   "source": [
    "# 初始化模型参数\n",
    "net[0].weight.data.normal_(0, 0.01)\n",
    "net[0].bias.data.fill_(0)\n",
    "net[0].bias"
   ]
  },
  {
   "cell_type": "code",
   "execution_count": 14,
   "id": "b5d2b487",
   "metadata": {},
   "outputs": [],
   "source": [
    "# 定义损失函数\n",
    "# 计算均方误差使用的是MSELoss类，也称为平方  L2  范数。默认情况下，它返回所有样本损失的平均值。\n",
    "loss = nn.MSELoss()"
   ]
  },
  {
   "cell_type": "code",
   "execution_count": 15,
   "id": "ff18ca9e",
   "metadata": {},
   "outputs": [],
   "source": [
    "# 定义优化算法\n",
    "# 我们要指定优化的参数（可通过 net.parameters() 从我们的模型中获得）以及优化算法所需的超参数字典。小批量随机梯度下降只需要设置 lr值。\n",
    "trainer = torch.optim.SGD(net.parameters(), lr=0.03)"
   ]
  },
  {
   "cell_type": "code",
   "execution_count": 16,
   "id": "b38eebd9",
   "metadata": {},
   "outputs": [
    {
     "name": "stdout",
     "output_type": "stream",
     "text": [
      "epoch 1, loss 0.000189\n",
      "epoch 2, loss 0.000100\n",
      "epoch 3, loss 0.000100\n"
     ]
    }
   ],
   "source": [
    "# 开始训练\n",
    "# 通过调用 net(X) 生成预测并计算损失 l（正向传播）。\n",
    "# 通过进行反向传播来计算梯度。\n",
    "# 通过调用优化器来更新模型参数。\n",
    "num_epochs = 3\n",
    "for epoch in range(num_epochs):\n",
    "    for X, y in data_iter:\n",
    "        l = loss(net(X), y)\n",
    "        trainer.zero_grad() # 梯度清零\n",
    "        l.backward() # 反向传播\n",
    "        trainer.step() # 更新阐述\n",
    "    l = loss(net(features), labels)\n",
    "    print(f'epoch {epoch + 1}, loss {l:f}')"
   ]
  },
  {
   "cell_type": "code",
   "execution_count": 17,
   "id": "cba7323a",
   "metadata": {},
   "outputs": [
    {
     "name": "stdout",
     "output_type": "stream",
     "text": [
      "w的估计误差： tensor([ 0.0006, -0.0002])\n",
      "b的估计误差： tensor([0.0007])\n"
     ]
    }
   ],
   "source": [
    "# 和真实的参数比较误差\n",
    "w = net[0].weight.data\n",
    "print('w的估计误差：', true_w - w.reshape(true_w.shape))\n",
    "b = net[0].bias.data\n",
    "print('b的估计误差：', true_b - b)"
   ]
  },
  {
   "cell_type": "code",
   "execution_count": null,
   "id": "1d455f67",
   "metadata": {},
   "outputs": [],
   "source": []
  }
 ],
 "metadata": {
  "kernelspec": {
   "display_name": "Python 3",
   "language": "python",
   "name": "python3"
  },
  "language_info": {
   "codemirror_mode": {
    "name": "ipython",
    "version": 3
   },
   "file_extension": ".py",
   "mimetype": "text/x-python",
   "name": "python",
   "nbconvert_exporter": "python",
   "pygments_lexer": "ipython3",
   "version": "3.8.5"
  }
 },
 "nbformat": 4,
 "nbformat_minor": 5
}
