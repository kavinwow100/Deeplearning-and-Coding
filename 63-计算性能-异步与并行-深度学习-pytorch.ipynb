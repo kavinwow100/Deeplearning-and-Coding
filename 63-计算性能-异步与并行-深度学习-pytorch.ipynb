{
 "cells": [
  {
   "cell_type": "markdown",
   "id": "c2ffe63a-8e1d-457d-aa3b-09a3e76aa67d",
   "metadata": {},
   "source": [
    "1. 异步计算\n",
    "2. 自动并行"
   ]
  },
  {
   "cell_type": "code",
   "execution_count": 4,
   "id": "c135000a-3a0a-4129-8901-f7d780de63fa",
   "metadata": {},
   "outputs": [],
   "source": [
    "import os\n",
    "import subprocess\n",
    "import numpy\n",
    "import torch\n",
    "from torch import nn\n",
    "import dltools"
   ]
  },
  {
   "cell_type": "code",
   "execution_count": 5,
   "id": "b1634ccd-3dbc-4111-acab-60249ffc8fe2",
   "metadata": {},
   "outputs": [
    {
     "name": "stdout",
     "output_type": "stream",
     "text": [
      "numpy: 2.8189 sec\n",
      "torch: 0.0508 sec\n"
     ]
    }
   ],
   "source": [
    "# GPU计算\n",
    "device = dltools.try_gpu()\n",
    "a = torch.randn(size=(1000, 1000), device=device)\n",
    "b = torch.mm(a, a)\n",
    "\n",
    "with dltools.Benchmark('numpy'):\n",
    "    for _ in range(10):\n",
    "        a = numpy.random.normal(size=(1000, 1000))\n",
    "        b = numpy.dot(a, a)\n",
    "\n",
    "with dltools.Benchmark('torch'):\n",
    "    for _ in range(10):\n",
    "        a = torch.randn(size=(1000, 1000), device=device)\n",
    "        b = torch.mm(a, a)"
   ]
  },
  {
   "cell_type": "code",
   "execution_count": 9,
   "id": "c3650baf-62f6-435d-a72b-6618577da206",
   "metadata": {},
   "outputs": [
    {
     "name": "stdout",
     "output_type": "stream",
     "text": [
      "Done: 0.1034 sec\n"
     ]
    }
   ],
   "source": [
    "with dltools.Benchmark():\n",
    "    for _ in range(10):\n",
    "        a = torch.randn(size=(1000, 1000), device=device)\n",
    "        b = torch.mm(a, a)\n",
    "    torch.cuda.synchronize(device)"
   ]
  },
  {
   "cell_type": "code",
   "execution_count": 8,
   "id": "ee361df3-46c6-4c4a-932c-e6761c0fbf4b",
   "metadata": {},
   "outputs": [
    {
     "data": {
      "text/plain": [
       "tensor([[3., 3.]], device='cuda:0')"
      ]
     },
     "execution_count": 8,
     "metadata": {},
     "output_type": "execute_result"
    }
   ],
   "source": [
    "x = torch.ones((1, 2), device=device)\n",
    "y = torch.ones((1, 2), device=device)\n",
    "z = x * y + 2\n",
    "z"
   ]
  },
  {
   "attachments": {
    "12d8339f-8994-4e71-af46-ed03573b7a2c.png": {
     "image/png": "[encoded data removed]"
    }
   },
   "cell_type": "markdown",
   "id": "f08387c9-0437-41e0-bca6-971dd834d1b4",
   "metadata": {},
   "source": [
    "![image.png](attachment:12d8339f-8994-4e71-af46-ed03573b7a2c.png)"
   ]
  },
  {
   "cell_type": "code",
   "execution_count": 10,
   "id": "23dc5513-d225-4f78-aa56-78c0bff66220",
   "metadata": {},
   "outputs": [],
   "source": [
    "# 基于多GPU的并行计算\n",
    "devices = dltools.try_all_gpus()\n",
    "def run(x):\n",
    "    return [x.mm(x) for _ in range(50)]\n",
    "\n",
    "x_gpu1 = torch.rand(size=(4000, 4000), device=devices[0])\n",
    "x_gpu2 = torch.rand(size=(4000, 4000), device=devices[1])\n"
   ]
  },
  {
   "cell_type": "code",
   "execution_count": null,
   "id": "f01b2b76-6567-4ee4-b4d2-858b5dc91e2f",
   "metadata": {},
   "outputs": [],
   "source": [
    "run(x_gpu1)\n",
    "run(x_gpu2)  \n",
    "torch.cuda.synchronize(devices[0])\n",
    "torch.cuda.synchronize(devices[1])\n",
    "\n",
    "with d2l.Benchmark('GPU1 time'):\n",
    "    run(x_gpu1)\n",
    "    torch.cuda.synchronize(devices[0])\n",
    "\n",
    "with d2l.Benchmark('GPU2 time'):\n",
    "    run(x_gpu2)\n",
    "    torch.cuda.synchronize(devices[1])"
   ]
  },
  {
   "cell_type": "markdown",
   "id": "72f57e0c",
   "metadata": {},
   "source": [
    "GPU1 time: 0.4872 sec\n",
    "GPU2 time: 0.5076 sec"
   ]
  },
  {
   "cell_type": "code",
   "execution_count": null,
   "id": "251fc1a8-31e5-48dc-bf4e-999de56d1015",
   "metadata": {},
   "outputs": [],
   "source": [
    "with dltools.Benchmark('GPU1 & GPU2'):\n",
    "    run(x_gpu1)\n",
    "    run(x_gpu2)\n",
    "    torch.cuda.synchronize()"
   ]
  },
  {
   "cell_type": "markdown",
   "id": "2d1de176-3ebb-4522-bc98-54f4807de993",
   "metadata": {},
   "source": [
    "GPU1 & GPU2: 0.4918 sec"
   ]
  },
  {
   "cell_type": "code",
   "execution_count": null,
   "id": "5142520e-558d-443f-a1ff-f3a2d00a9ab3",
   "metadata": {},
   "outputs": [],
   "source": [
    "# 并行计算与通信\n",
    "def copy_to_cpu(x, non_blocking=False):\n",
    "    return [y.to('cpu', non_blocking=non_blocking) for y in x]\n",
    "\n",
    "with dltools.Benchmark('在GPU1上运行'):\n",
    "    y = run(x_gpu1)\n",
    "    torch.cuda.synchronize()\n",
    "\n",
    "with dltools.Benchmark('复制到CPU'):\n",
    "    y_cpu = copy_to_cpu(y)\n",
    "    torch.cuda.synchronize()"
   ]
  },
  {
   "cell_type": "markdown",
   "id": "b7e66bae-1840-43b6-85dd-e881c2f8655f",
   "metadata": {},
   "source": [
    "在GPU1上运行: 0.4904 sec\n",
    "复制到CPU: 2.3745 sec"
   ]
  },
  {
   "cell_type": "code",
   "execution_count": null,
   "id": "f3531457-0753-449b-aadf-f1450896ac63",
   "metadata": {},
   "outputs": [],
   "source": [
    "with dltools.Benchmark('在GPU1上运行并复制到CPU'):\n",
    "    y = run(x_gpu1)\n",
    "    y_cpu = copy_to_cpu(y, True)\n",
    "    torch.cuda.synchronize()"
   ]
  },
  {
   "cell_type": "markdown",
   "id": "6723889d-5e36-4c16-8dc7-d370f562b4d3",
   "metadata": {},
   "source": [
    "在GPU1上运行并复制到CPU: 1.7353 sec"
   ]
  }
 ],
 "metadata": {
  "kernelspec": {
   "display_name": "Python 3",
   "language": "python",
   "name": "python3"
  },
  "language_info": {
   "codemirror_mode": {
    "name": "ipython",
    "version": 3
   },
   "file_extension": ".py",
   "mimetype": "text/x-python",
   "name": "python",
   "nbconvert_exporter": "python",
   "pygments_lexer": "ipython3",
   "version": "3.6.5"
  }
 },
 "nbformat": 4,
 "nbformat_minor": 5
}
