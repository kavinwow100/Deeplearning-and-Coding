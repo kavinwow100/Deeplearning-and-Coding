{
 "cells": [
  {
   "attachments": {
    "image-2.png": {
     "image/png": "[encoded data removed]"
    },
    "image-3.png": {
     "image/png": "[encoded data removed]"
    },
    "image.png": {
     "image/png": "[encoded data removed]"
    }
   },
   "cell_type": "markdown",
   "id": "ba1137d5",
   "metadata": {},
   "source": [
    "多头注意力：多个头连结然后线性变换\n",
    "![image.png](attachment:image.png)\n",
    "\n",
    "模型计算方式：\n",
    "![image-2.png](attachment:image-2.png)\n",
    "\n",
    "![image-3.png](attachment:image-3.png)"
   ]
  },
  {
   "cell_type": "code",
   "execution_count": 1,
   "id": "405a8a85",
   "metadata": {},
   "outputs": [],
   "source": [
    "import math\n",
    "import torch\n",
    "from torch import nn\n",
    "import dltools"
   ]
  },
  {
   "cell_type": "code",
   "execution_count": 6,
   "id": "e4a40cda",
   "metadata": {},
   "outputs": [],
   "source": [
    "# 具体实现\n",
    "class MultiHeadAttention(nn.Module):\n",
    "    \"\"\"多头注意力\"\"\"\n",
    "    def __init__(self, key_size, query_size, value_size, num_hiddens,num_heads, dropout, bias=False, **kwargs):\n",
    "        super(MultiHeadAttention, self).__init__(**kwargs)\n",
    "        self.num_heads = num_heads\n",
    "        self.attention = dltools.DotProductAttention(dropout)\n",
    "        self.W_q = nn.Linear(query_size, num_hiddens, bias=bias)\n",
    "        self.W_k = nn.Linear(key_size, num_hiddens, bias=bias)\n",
    "        self.W_v = nn.Linear(value_size, num_hiddens, bias=bias)\n",
    "        self.W_o = nn.Linear(num_hiddens, num_hiddens, bias=bias)\n",
    "\n",
    "    def forward(self, queries, keys, values, valid_lens):\n",
    "        # queries，keys，values的形状:(batch_size，查询或者“键－值”对的个数，num_hiddens)\n",
    "        # valid_lens　的形状:(batch_size，)或(batch_size，查询的个数)\n",
    "        # 经过变换后，输出的queries，keys，values　的形状:(batch_size*num_heads，查询或者“键－值”对的个数，num_hiddens/num_heads)\n",
    "        print(queries.shape) # 2 4 100\n",
    "        print(keys.shape) # 2 6 100\n",
    "        print(values.shape) # 2 6 100\n",
    "        queries = transpose_qkv(self.W_q(queries), self.num_heads) # 10 4 20\n",
    "        keys = transpose_qkv(self.W_k(keys), self.num_heads) # 10 6 20\n",
    "        values = transpose_qkv(self.W_v(values), self.num_heads) # 10 6 20\n",
    "\n",
    "        if valid_lens is not None:\n",
    "            # 在轴0，将第一项（标量或者矢量）复制num_heads次，然后如此复制第二项，然后诸如此类。\n",
    "            print(\"valid_lens前的形状{}\".format(valid_lens.shape))\n",
    "            valid_lens = torch.repeat_interleave(valid_lens, repeats=self.num_heads, dim=0)\n",
    "            print(\"valid_lens后的形状{}\".format(valid_lens.shape))\n",
    "\n",
    "        # output的形状:(batch_size*num_heads，查询的个数，num_hiddens/num_heads)\n",
    "        output = self.attention(queries, keys, values, valid_lens)\n",
    "        print(\"output后的形状{}\".format(output.shape))\n",
    "        \n",
    "        # output_concat的形状:(batch_size，查询的个数，num_hiddens)\n",
    "        output_concat = transpose_output(output, self.num_heads)\n",
    "        print(\"output_concat后的形状{}\".format(output_concat.shape))\n",
    "        print(\"output_W_o后的形状{}\".format(self.W_o(output_concat).shape))\n",
    "        return self.W_o(output_concat)"
   ]
  },
  {
   "cell_type": "code",
   "execution_count": 7,
   "id": "bc0bc8c5",
   "metadata": {},
   "outputs": [],
   "source": [
    "# transpose_output函数反转了transpose_qkv函数的操作\n",
    "def transpose_qkv(X, num_heads):\n",
    "    \"\"\"为了多头注意力的并行计算而变换形状\"\"\"\n",
    "    # 输入X的形状:(batch_size，查询或者“键－值”对的个数，num_hiddens)\n",
    "    # 输出X的形状:(batch_size，查询或者“键－值”对的个数，num_heads，num_hiddens/num_heads)\n",
    "    X = X.reshape(X.shape[0], X.shape[1], num_heads, -1)\n",
    "    print(\"transpose_qkv中输出X的形状{}\".format(X.shape))\n",
    "\n",
    "    # 输出X的形状:(batch_size，num_heads，查询或者“键－值”对的个数,num_hiddens/num_heads)\n",
    "    X = X.permute(0, 2, 1, 3)\n",
    "    \n",
    "    # 最终输出的形状:(batch_size * num_heads,查询或者“键－值”对的个数,num_hiddens/num_heads)\n",
    "    print(X.reshape(-1, X.shape[2], X.shape[3]).shape)\n",
    "    return X.reshape(-1, X.shape[2], X.shape[3])\n",
    "\n",
    "def transpose_output(X, num_heads):\n",
    "    \"\"\"逆转transpose_qkv函数的操作\"\"\"\n",
    "    X = X.reshape(-1, num_heads, X.shape[1], X.shape[2])\n",
    "    X = X.permute(0, 2, 1, 3)\n",
    "    return X.reshape(X.shape[0], X.shape[1], -1)"
   ]
  },
  {
   "cell_type": "code",
   "execution_count": 8,
   "id": "91801176",
   "metadata": {},
   "outputs": [
    {
     "data": {
      "text/plain": [
       "MultiHeadAttention(\n",
       "  (attention): DotProductAttention(\n",
       "    (dropout): Dropout(p=0.5, inplace=False)\n",
       "  )\n",
       "  (W_q): Linear(in_features=100, out_features=100, bias=False)\n",
       "  (W_k): Linear(in_features=100, out_features=100, bias=False)\n",
       "  (W_v): Linear(in_features=100, out_features=100, bias=False)\n",
       "  (W_o): Linear(in_features=100, out_features=100, bias=False)\n",
       ")"
      ]
     },
     "execution_count": 8,
     "metadata": {},
     "output_type": "execute_result"
    }
   ],
   "source": [
    "num_hiddens, num_heads = 100, 5\n",
    "attention = MultiHeadAttention(num_hiddens, num_hiddens, num_hiddens,num_hiddens, num_heads, 0.5)\n",
    "attention.eval()"
   ]
  },
  {
   "cell_type": "code",
   "execution_count": 5,
   "id": "0919fe76",
   "metadata": {
    "scrolled": true
   },
   "outputs": [
    {
     "name": "stdout",
     "output_type": "stream",
     "text": [
      "torch.Size([2, 4, 100])\n",
      "torch.Size([2, 6, 100])\n",
      "torch.Size([2, 6, 100])\n",
      "transpose_qkv中输出X的形状torch.Size([2, 4, 5, 20])\n",
      "torch.Size([10, 4, 20])\n",
      "transpose_qkv中输出X的形状torch.Size([2, 6, 5, 20])\n",
      "torch.Size([10, 6, 20])\n",
      "transpose_qkv中输出X的形状torch.Size([2, 6, 5, 20])\n",
      "torch.Size([10, 6, 20])\n",
      "valid_lens前的形状torch.Size([2])\n",
      "valid_lens后的形状torch.Size([10])\n",
      "output后的形状torch.Size([10, 4, 20])\n",
      "output_concat后的形状torch.Size([2, 4, 100])\n",
      "output_W_o后的形状torch.Size([2, 4, 100])\n"
     ]
    },
    {
     "data": {
      "text/plain": [
       "torch.Size([2, 4, 100])"
      ]
     },
     "execution_count": 5,
     "metadata": {},
     "output_type": "execute_result"
    }
   ],
   "source": [
    "batch_size, num_queries = 2, 4\n",
    "num_kvpairs, valid_lens =  6, torch.tensor([3, 2])\n",
    "X = torch.ones((batch_size, num_queries, num_hiddens)) # 2 4 100\n",
    "Y = torch.ones((batch_size, num_kvpairs, num_hiddens))# 2 6 100\n",
    "attention(X, Y, Y, valid_lens).shape"
   ]
  },
  {
   "cell_type": "code",
   "execution_count": null,
   "id": "711b3355",
   "metadata": {},
   "outputs": [],
   "source": []
  },
  {
   "cell_type": "code",
   "execution_count": null,
   "id": "3bd4e457",
   "metadata": {},
   "outputs": [],
   "source": []
  }
 ],
 "metadata": {
  "kernelspec": {
   "display_name": "Python 3",
   "language": "python",
   "name": "python3"
  },
  "language_info": {
   "codemirror_mode": {
    "name": "ipython",
    "version": 3
   },
   "file_extension": ".py",
   "mimetype": "text/x-python",
   "name": "python",
   "nbconvert_exporter": "python",
   "pygments_lexer": "ipython3",
   "version": "3.6.5"
  }
 },
 "nbformat": 4,
 "nbformat_minor": 5
}
